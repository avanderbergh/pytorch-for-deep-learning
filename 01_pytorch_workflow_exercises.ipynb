{
  "cells": [
    {
      "cell_type": "markdown",
      "metadata": {
        "colab_type": "text",
        "id": "view-in-github"
      },
      "source": [
        "<a href=\"https://colab.research.google.com/github/mrdbourke/pytorch-deep-learning/blob/main/extras/exercises/01_pytorch_workflow_exercises.ipynb\" target=\"_parent\"><img src=\"https://colab.research.google.com/assets/colab-badge.svg\" alt=\"Open In Colab\"/></a>"
      ]
    },
    {
      "cell_type": "markdown",
      "metadata": {
        "id": "N8LsPXZti9Sw"
      },
      "source": [
        "# 01. PyTorch Workflow Exercise Template\n",
        "\n",
        "The following is a template for the PyTorch workflow exercises.\n",
        "\n",
        "It's only starter code and it's your job to fill in the blanks.\n",
        "\n",
        "Because of the flexibility of PyTorch, there may be more than one way to answer the question.\n",
        "\n",
        "Don't worry about trying to be *right* just try writing code that suffices the question.\n",
        "\n",
        "You can see one form of [solutions on GitHub](https://github.com/mrdbourke/pytorch-deep-learning/tree/main/extras/solutions) (but try the exercises below yourself first!)."
      ]
    },
    {
      "cell_type": "code",
      "execution_count": 991,
      "metadata": {
        "id": "Glu2fM4dkNlx"
      },
      "outputs": [],
      "source": [
        "# Import necessary libraries\n",
        "import torch\n",
        "from torch import nn\n",
        "import matplotlib.pyplot as plt\n",
        "from random import random"
      ]
    },
    {
      "cell_type": "code",
      "execution_count": 992,
      "metadata": {
        "id": "LqKhXY26m31s"
      },
      "outputs": [
        {
          "name": "stdout",
          "output_type": "stream",
          "text": [
            "Device: cuda\n"
          ]
        }
      ],
      "source": [
        "# Setup device-agnostic code\n",
        "device = \"cuda\" if torch.cuda.is_available() else \"cpu\"\n",
        "print(f\"Device: {device}\")"
      ]
    },
    {
      "cell_type": "markdown",
      "metadata": {
        "id": "g7HUhxCxjeBx"
      },
      "source": [
        "## 1. Create a straight line dataset using the linear regression formula (`weight * X + bias`).\n",
        "  * Set `weight=0.3` and `bias=0.9` there should be at least 100 datapoints total. \n",
        "  * Split the data into 80% training, 20% testing.\n",
        "  * Plot the training and testing data so it becomes visual.\n",
        "\n",
        "Your output of the below cell should look something like:\n",
        "```\n",
        "Number of X samples: 100\n",
        "Number of y samples: 100\n",
        "First 10 X & y samples:\n",
        "X: tensor([0.0000, 0.0100, 0.0200, 0.0300, 0.0400, 0.0500, 0.0600, 0.0700, 0.0800,\n",
        "        0.0900])\n",
        "y: tensor([0.9000, 0.9030, 0.9060, 0.9090, 0.9120, 0.9150, 0.9180, 0.9210, 0.9240,\n",
        "        0.9270])\n",
        "```\n",
        "\n",
        "Of course the numbers in `X` and `y` may be different but ideally they're created using the linear regression formula."
      ]
    },
    {
      "cell_type": "code",
      "execution_count": 993,
      "metadata": {
        "id": "KbDG5MV7jhvE"
      },
      "outputs": [
        {
          "name": "stdout",
          "output_type": "stream",
          "text": [
            "Number of X samples: 100\n",
            "Number of y samples: 100\n",
            "First 10 X & y samples:\n",
            "X: tensor([[0.0000],\n",
            "        [0.0100],\n",
            "        [0.0200],\n",
            "        [0.0300],\n",
            "        [0.0400],\n",
            "        [0.0500],\n",
            "        [0.0600],\n",
            "        [0.0700],\n",
            "        [0.0800],\n",
            "        [0.0900]], device='cuda:0')\n",
            "y: tensor([[0.8421],\n",
            "        [0.8533],\n",
            "        [0.8556],\n",
            "        [0.8587],\n",
            "        [0.8621],\n",
            "        [0.8497],\n",
            "        [0.8505],\n",
            "        [0.8422],\n",
            "        [0.8643],\n",
            "        [0.8540]], device='cuda:0')\n"
          ]
        }
      ],
      "source": [
        "# Create the data parameters\n",
        "weight = 0.3\n",
        "bias = 0.9\n",
        "\n",
        "start = 0\n",
        "end = 1\n",
        "step = 0.01\n",
        "# Make X and y using linear regression feature\n",
        "\n",
        "X = torch.arange(start, end, step).to(device).unsqueeze(dim=1)\n",
        "y = weight * X + bias\n",
        "for i in range(len(y)):\n",
        "    y[i] = y[i] + (random() * 0.04 - 0.08)\n",
        "\n",
        "\n",
        "print(f\"Number of X samples: {len(X)}\")\n",
        "print(f\"Number of y samples: {len(y)}\")\n",
        "print(f\"First 10 X & y samples:\\nX: {X[:10]}\\ny: {y[:10]}\")"
      ]
    },
    {
      "cell_type": "code",
      "execution_count": 994,
      "metadata": {
        "id": "GlwtT1djkmLw"
      },
      "outputs": [
        {
          "data": {
            "text/plain": [
              "(80, 20, 80, 20)"
            ]
          },
          "execution_count": 994,
          "metadata": {},
          "output_type": "execute_result"
        }
      ],
      "source": [
        "# Split the data into training and testing\n",
        "training_split = int(0.8 * len(X))\n",
        "X_train, X_test = X[:training_split], X[training_split:]\n",
        "y_train, y_test = y[:training_split], y[training_split:]\n",
        "\n",
        "len(X_train), len(X_test), len(y_train), len(y_test)"
      ]
    },
    {
      "cell_type": "code",
      "execution_count": 995,
      "metadata": {
        "id": "29iQZFNhlYJ-"
      },
      "outputs": [
        {
          "data": {
            "image/png": "[encoded data removed]",
            "text/plain": [
              "<Figure size 640x480 with 1 Axes>"
            ]
          },
          "metadata": {},
          "output_type": "display_data"
        }
      ],
      "source": [
        "# Plot the training and testing data \n",
        "def plot_predictions(X_test=X_test, y_test=y_test, X_train=X_train, y_train=y_train, predictions=None):\n",
        "    plt.scatter(X_train.to(\"cpu\"), y_train.to(\"cpu\"), c=\"b\", label=\"Training\", s=1)\n",
        "    plt.scatter(X_test.to(\"cpu\"), y_test.to(\"cpu\"), c=\"r\", label=\"Test\", s=1)\n",
        "    if predictions is not None:\n",
        "        plt.scatter(X_test.to(\"cpu\"), predictions.to(\"cpu\"), c=\"g\", label=\"Predictions\", s=1)\n",
        "\n",
        "    plt.title(\"Predictions\")\n",
        "    plt.legend()\n",
        "\n",
        "plot_predictions()"
      ]
    },
    {
      "cell_type": "markdown",
      "metadata": {
        "id": "ImZoe3v8jif8"
      },
      "source": [
        "## 2. Build a PyTorch model by subclassing `nn.Module`. \n",
        "  * Inside should be a randomly initialized `nn.Parameter()` with `requires_grad=True`, one for `weights` and one for `bias`. \n",
        "  * Implement the `forward()` method to compute the linear regression function you used to create the dataset in 1. \n",
        "  * Once you've constructed the model, make an instance of it and check its `state_dict()`.\n",
        "  * **Note:** If you'd like to use `nn.Linear()` instead of `nn.Parameter()` you can."
      ]
    },
    {
      "cell_type": "code",
      "execution_count": 996,
      "metadata": {
        "id": "qzd__Y5rjtB8"
      },
      "outputs": [],
      "source": [
        "# Create PyTorch linear regression model by subclassing nn.Module\n",
        "class LinearRegressionModel(nn.Module):\n",
        "    def __init__(self) -> None:\n",
        "        super().__init__()\n",
        "        self.linear_layer = nn.Linear(1, 1, device=device)\n",
        "\n",
        "    def forward(self, x: torch.Tensor) -> torch.Tensor:\n",
        "        return self.linear_layer(x)"
      ]
    },
    {
      "cell_type": "code",
      "execution_count": 997,
      "metadata": {
        "id": "5LdcDnmOmyQ2"
      },
      "outputs": [
        {
          "data": {
            "text/plain": [
              "OrderedDict([('linear_layer.weight', tensor([[-0.9346]], device='cuda:0')),\n",
              "             ('linear_layer.bias', tensor([-0.2219], device='cuda:0'))])"
            ]
          },
          "execution_count": 997,
          "metadata": {},
          "output_type": "execute_result"
        }
      ],
      "source": [
        "# Instantiate the model and put it to the target device\n",
        "model = LinearRegressionModel().to(device)\n",
        "model.state_dict()"
      ]
    },
    {
      "cell_type": "markdown",
      "metadata": {
        "id": "G6nYOrJhjtfu"
      },
      "source": [
        "## 3. Create a loss function and optimizer using `nn.L1Loss()` and `torch.optim.SGD(params, lr)` respectively. \n",
        "  * Set the learning rate of the optimizer to be 0.01 and the parameters to optimize should be the model parameters from the model you created in 2.\n",
        "  * Write a training loop to perform the appropriate training steps for 300 epochs.\n",
        "  * The training loop should test the model on the test dataset every 20 epochs."
      ]
    },
    {
      "cell_type": "code",
      "execution_count": 998,
      "metadata": {
        "id": "ltvoZ-FWjv1j"
      },
      "outputs": [],
      "source": [
        "# Create the loss function and optimizer\n",
        "loss_fn = nn.L1Loss()\n",
        "optimizer = torch.optim.SGD(params=model.parameters(), lr=0.01)"
      ]
    },
    {
      "cell_type": "code",
      "execution_count": 999,
      "metadata": {
        "id": "xpE83NvNnkdV"
      },
      "outputs": [
        {
          "name": "stdout",
          "output_type": "stream",
          "text": [
            "Epoch: 0 | Train loss: 1.549 | Test loss: 2.156\n",
            "Epoch: 20 | Train loss: 1.318 | Test loss: 1.885\n",
            "Epoch: 40 | Train loss: 1.087 | Test loss: 1.615\n",
            "Epoch: 60 | Train loss: 0.856 | Test loss: 1.344\n",
            "Epoch: 80 | Train loss: 0.624 | Test loss: 1.073\n",
            "Epoch: 100 | Train loss: 0.393 | Test loss: 0.803\n",
            "Epoch: 120 | Train loss: 0.211 | Test loss: 0.563\n",
            "Epoch: 140 | Train loss: 0.150 | Test loss: 0.421\n",
            "Epoch: 160 | Train loss: 0.129 | Test loss: 0.342\n",
            "Epoch: 180 | Train loss: 0.120 | Test loss: 0.296\n",
            "Epoch: 200 | Train loss: 0.112 | Test loss: 0.269\n",
            "Epoch: 220 | Train loss: 0.106 | Test loss: 0.252\n",
            "Epoch: 240 | Train loss: 0.099 | Test loss: 0.235\n",
            "Epoch: 260 | Train loss: 0.092 | Test loss: 0.218\n",
            "Epoch: 280 | Train loss: 0.085 | Test loss: 0.201\n",
            "Epoch: 300 | Train loss: 0.078 | Test loss: 0.184\n",
            "Epoch: 320 | Train loss: 0.072 | Test loss: 0.167\n",
            "Epoch: 340 | Train loss: 0.065 | Test loss: 0.152\n",
            "Epoch: 360 | Train loss: 0.058 | Test loss: 0.137\n",
            "Epoch: 380 | Train loss: 0.052 | Test loss: 0.122\n",
            "Epoch: 400 | Train loss: 0.045 | Test loss: 0.106\n",
            "Epoch: 420 | Train loss: 0.039 | Test loss: 0.092\n",
            "Epoch: 440 | Train loss: 0.033 | Test loss: 0.076\n",
            "Epoch: 460 | Train loss: 0.027 | Test loss: 0.063\n",
            "Epoch: 480 | Train loss: 0.021 | Test loss: 0.048\n",
            "Epoch: 500 | Train loss: 0.016 | Test loss: 0.035\n",
            "Epoch: 520 | Train loss: 0.012 | Test loss: 0.025\n",
            "Epoch: 540 | Train loss: 0.011 | Test loss: 0.017\n",
            "Epoch: 560 | Train loss: 0.010 | Test loss: 0.014\n",
            "Epoch: 580 | Train loss: 0.010 | Test loss: 0.012\n",
            "Epoch: 600 | Train loss: 0.010 | Test loss: 0.011\n",
            "Epoch: 620 | Train loss: 0.010 | Test loss: 0.011\n",
            "Epoch: 640 | Train loss: 0.010 | Test loss: 0.011\n",
            "Epoch: 660 | Train loss: 0.010 | Test loss: 0.011\n",
            "Epoch: 680 | Train loss: 0.010 | Test loss: 0.011\n",
            "Epoch: 700 | Train loss: 0.010 | Test loss: 0.011\n",
            "Epoch: 720 | Train loss: 0.010 | Test loss: 0.011\n",
            "Epoch: 740 | Train loss: 0.010 | Test loss: 0.011\n",
            "Epoch: 760 | Train loss: 0.010 | Test loss: 0.011\n",
            "Epoch: 780 | Train loss: 0.010 | Test loss: 0.011\n",
            "Epoch: 800 | Train loss: 0.010 | Test loss: 0.011\n",
            "Epoch: 820 | Train loss: 0.010 | Test loss: 0.011\n",
            "Epoch: 840 | Train loss: 0.010 | Test loss: 0.011\n",
            "Epoch: 860 | Train loss: 0.010 | Test loss: 0.011\n",
            "Epoch: 880 | Train loss: 0.010 | Test loss: 0.011\n",
            "Epoch: 900 | Train loss: 0.010 | Test loss: 0.011\n",
            "Epoch: 920 | Train loss: 0.010 | Test loss: 0.011\n",
            "Epoch: 940 | Train loss: 0.010 | Test loss: 0.011\n",
            "Epoch: 960 | Train loss: 0.010 | Test loss: 0.011\n",
            "Epoch: 980 | Train loss: 0.010 | Test loss: 0.011\n"
          ]
        }
      ],
      "source": [
        "# Training loop\n",
        "\n",
        "\n",
        "# Train model for 300 epochs\n",
        "epochs = 1000\n",
        "epoch_vals = []\n",
        "training_loss_vals = []\n",
        "testing_loss_vals = []\n",
        "# Send data to target device\n",
        "\n",
        "\n",
        "for epoch in range(epochs):\n",
        "    ### Training\n",
        "\n",
        "    # Put model in train mode\n",
        "    model.train()\n",
        "\n",
        "    # 1. Forward pass\n",
        "    y_pred = model(X_train)\n",
        "\n",
        "    # 2. Calculate loss\n",
        "    loss = loss_fn(y_pred, y_train)\n",
        "\n",
        "    # 3. Zero gradients\n",
        "    optimizer.zero_grad()\n",
        "\n",
        "    # 4. Backpropagation\n",
        "    loss.backward()\n",
        "\n",
        "    # 5. Step the optimizer\n",
        "    optimizer.step()\n",
        "\n",
        "    ### Perform testing every 20 epochs\n",
        "    if epoch % 20 == 0:\n",
        "\n",
        "        # Put model in evaluation mode and setup inference context\n",
        "        model.eval()\n",
        "        # 1. Forward pass\n",
        "        test_pred = model(X_test)\n",
        "        # 2. Calculate test loss\n",
        "        test_loss = loss_fn(test_pred, y_test)\n",
        "\n",
        "        epoch_vals.append(epoch)\n",
        "        training_loss_vals.append(loss.item())\n",
        "        testing_loss_vals.append(test_loss.item())\n",
        "\n",
        "        # Print out what's happening\n",
        "        print(f\"Epoch: {epoch} | Train loss: {loss:.3f} | Test loss: {test_loss:.3f}\")"
      ]
    },
    {
      "cell_type": "code",
      "execution_count": 1000,
      "metadata": {},
      "outputs": [
        {
          "data": {
            "text/plain": [
              "<matplotlib.legend.Legend at 0x7f084ed59240>"
            ]
          },
          "execution_count": 1000,
          "metadata": {},
          "output_type": "execute_result"
        },
        {
          "data": {
            "image/png": "[encoded data removed]",
            "text/plain": [
              "<Figure size 640x480 with 1 Axes>"
            ]
          },
          "metadata": {},
          "output_type": "display_data"
        }
      ],
      "source": [
        "plt.plot(epoch_vals, training_loss_vals, label=\"Training Loss\")\n",
        "plt.plot(epoch_vals, testing_loss_vals, label=\"Testing Loss\")\n",
        "plt.xlabel(\"Epoch\")\n",
        "plt.ylabel(\"Loss\")\n",
        "plt.legend()"
      ]
    },
    {
      "cell_type": "markdown",
      "metadata": {
        "id": "x4j4TM18jwa7"
      },
      "source": [
        "## 4. Make predictions with the trained model on the test data.\n",
        "  * Visualize these predictions against the original training and testing data (**note:** you may need to make sure the predictions are *not* on the GPU if you want to use non-CUDA-enabled libraries such as matplotlib to plot)."
      ]
    },
    {
      "cell_type": "code",
      "execution_count": 1001,
      "metadata": {
        "id": "bbMPK5Qjjyx_"
      },
      "outputs": [],
      "source": [
        "# Make predictions with the model\n",
        "model.eval()\n",
        "with torch.inference_mode():\n",
        "    predictions = model(X_test)"
      ]
    },
    {
      "cell_type": "code",
      "execution_count": 1002,
      "metadata": {
        "id": "K3BdmQaDpFo8"
      },
      "outputs": [
        {
          "data": {
            "image/png": "[encoded data removed]",
            "text/plain": [
              "<Figure size 640x480 with 1 Axes>"
            ]
          },
          "metadata": {},
          "output_type": "display_data"
        }
      ],
      "source": [
        "# Plot the predictions (these may need to be on a specific device)\n",
        "plot_predictions(predictions=predictions)"
      ]
    },
    {
      "cell_type": "markdown",
      "metadata": {
        "id": "s2OnlMWKjzX8"
      },
      "source": [
        "## 5. Save your trained model's `state_dict()` to file.\n",
        "  * Create a new instance of your model class you made in 2. and load in the `state_dict()` you just saved to it.\n",
        "  * Perform predictions on your test data with the loaded model and confirm they match the original model predictions from 4."
      ]
    },
    {
      "cell_type": "code",
      "execution_count": 1003,
      "metadata": {
        "id": "hgxhgD14qr-i"
      },
      "outputs": [],
      "source": [
        "from pathlib import Path\n",
        "\n",
        "# 1. Create models directory\n",
        "MODEL_PATH = Path(\"models\")\n",
        "MODEL_NAME = \"01_exercise_model\"\n",
        "Path.mkdir(MODEL_PATH, parents=True, exist_ok=True)\n",
        "\n",
        "# 2. Create model save path\n",
        "MODEL_SAVE_PATH = MODEL_PATH / MODEL_NAME\n",
        "\n",
        "# 3. Save the model state dict\n",
        "torch.save(model.state_dict(), MODEL_SAVE_PATH)"
      ]
    },
    {
      "cell_type": "code",
      "execution_count": 1004,
      "metadata": {
        "id": "P9vTgiLRrJ7T"
      },
      "outputs": [
        {
          "data": {
            "text/plain": [
              "<All keys matched successfully>"
            ]
          },
          "execution_count": 1004,
          "metadata": {},
          "output_type": "execute_result"
        }
      ],
      "source": [
        "# Create new instance of model and load saved state dict (make sure to put it on the target device)\n",
        "loaded_model = LinearRegressionModel()\n",
        "loaded_model.to(device)\n",
        "loaded_model.load_state_dict(torch.load(MODEL_SAVE_PATH))"
      ]
    },
    {
      "cell_type": "code",
      "execution_count": 1005,
      "metadata": {
        "id": "8UGX3VebrVtI"
      },
      "outputs": [
        {
          "data": {
            "text/plain": [
              "tensor([[True],\n",
              "        [True],\n",
              "        [True],\n",
              "        [True],\n",
              "        [True],\n",
              "        [True],\n",
              "        [True],\n",
              "        [True],\n",
              "        [True],\n",
              "        [True],\n",
              "        [True],\n",
              "        [True],\n",
              "        [True],\n",
              "        [True],\n",
              "        [True],\n",
              "        [True],\n",
              "        [True],\n",
              "        [True],\n",
              "        [True],\n",
              "        [True]], device='cuda:0')"
            ]
          },
          "execution_count": 1005,
          "metadata": {},
          "output_type": "execute_result"
        }
      ],
      "source": [
        "# Make predictions with loaded model and compare them to the previous\n",
        "loaded_model.eval()\n",
        "\n",
        "with torch.inference_mode():\n",
        "    loaded_preds = loaded_model(X_test)\n",
        "\n",
        "predictions == loaded_preds"
      ]
    }
  ],
  "metadata": {
    "accelerator": "GPU",
    "colab": {
      "authorship_tag": "ABX9TyNYzatJtFkfUqqdiR6rYwVL",
      "collapsed_sections": [],
      "include_colab_link": true,
      "name": "01_pytorch_workflow_exercises.ipynb",
      "provenance": []
    },
    "kernelspec": {
      "display_name": "Python 3",
      "name": "python3"
    },
    "language_info": {
      "codemirror_mode": {
        "name": "ipython",
        "version": 3
      },
      "file_extension": ".py",
      "mimetype": "text/x-python",
      "name": "python",
      "nbconvert_exporter": "python",
      "pygments_lexer": "ipython3",
      "version": "3.10.10"
    }
  },
  "nbformat": 4,
  "nbformat_minor": 0
}
