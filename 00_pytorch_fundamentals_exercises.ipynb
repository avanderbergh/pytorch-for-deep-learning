{
  "cells": [
    {
      "cell_type": "markdown",
      "metadata": {
        "id": "AzDBM_v4iMe7"
      },
      "source": [
        "# 00. PyTorch Fundamentals Exercises\n",
        "\n",
        "### 1. Documentation reading \n",
        "\n",
        "A big part of deep learning (and learning to code in general) is getting familiar with the documentation of a certain framework you're using. We'll be using the PyTorch documentation a lot throughout the rest of this course. So I'd recommend spending 10-minutes reading the following (it's okay if you don't get some things for now, the focus is not yet full understanding, it's awareness):\n",
        "  * The documentation on [`torch.Tensor`](https://pytorch.org/docs/stable/tensors.html#torch-tensor).\n",
        "  * The documentation on [`torch.cuda`](https://pytorch.org/docs/master/notes/cuda.html#cuda-semantics).\n",
        "\n"
      ]
    },
    {
      "cell_type": "code",
      "execution_count": 1,
      "metadata": {
        "id": "bGD0oD8Kizak"
      },
      "outputs": [],
      "source": [
        "# No code solution (reading)"
      ]
    },
    {
      "cell_type": "markdown",
      "metadata": {
        "id": "__iXqqz-ioUJ"
      },
      "source": [
        "### 2. Create a random tensor with shape `(7, 7)`.\n"
      ]
    },
    {
      "cell_type": "code",
      "execution_count": 3,
      "metadata": {
        "id": "6pUq9Dc8i2L7"
      },
      "outputs": [
        {
          "data": {
            "text/plain": [
              "torch.Size([7, 7])"
            ]
          },
          "execution_count": 3,
          "metadata": {},
          "output_type": "execute_result"
        }
      ],
      "source": [
        "# Import torch\n",
        "import torch\n",
        "\n",
        "# Create random tensor\n",
        "random_tensor = torch.rand(7,7)\n",
        "random_tensor.shape\n"
      ]
    },
    {
      "cell_type": "markdown",
      "metadata": {
        "id": "9-XxvRLfiqkR"
      },
      "source": [
        "### 3. Perform a matrix multiplication on the tensor from 2 with another random tensor with shape `(1, 7)` (hint: you may have to transpose the second tensor)."
      ]
    },
    {
      "cell_type": "code",
      "execution_count": 4,
      "metadata": {
        "id": "NcLqR0Sbi_vT"
      },
      "outputs": [
        {
          "data": {
            "text/plain": [
              "tensor([[0.4382],\n",
              "        [1.2257],\n",
              "        [0.5375],\n",
              "        [1.5832],\n",
              "        [0.9519],\n",
              "        [1.7283],\n",
              "        [0.7342]])"
            ]
          },
          "execution_count": 4,
          "metadata": {},
          "output_type": "execute_result"
        }
      ],
      "source": [
        "# Create another random tensor\n",
        "random_tensor_2 = torch.rand(1,7)\n",
        "\n",
        "# Perform matrix multiplication \n",
        "torch.mm(random_tensor, random_tensor_2.T)\n"
      ]
    },
    {
      "cell_type": "markdown",
      "metadata": {
        "id": "eiutdKUFiryU"
      },
      "source": [
        "### 4. Set the random seed to `0` and do 2 & 3 over again.\n",
        "\n",
        "The output should be:\n",
        "```\n",
        "(tensor([[1.8542],\n",
        "         [1.9611],\n",
        "         [2.2884],\n",
        "         [3.0481],\n",
        "         [1.7067],\n",
        "         [2.5290],\n",
        "         [1.7989]]), torch.Size([7, 1]))\n",
        "```"
      ]
    },
    {
      "cell_type": "code",
      "execution_count": 5,
      "metadata": {
        "id": "D-lOWI_1jRMm"
      },
      "outputs": [
        {
          "data": {
            "text/plain": [
              "tensor([[1.5985],\n",
              "        [1.1173],\n",
              "        [1.2741],\n",
              "        [1.6838],\n",
              "        [0.8279],\n",
              "        [1.0347],\n",
              "        [1.2498]])"
            ]
          },
          "execution_count": 5,
          "metadata": {},
          "output_type": "execute_result"
        }
      ],
      "source": [
        "# Set manual seed\n",
        "torch.manual_seed(0)\n",
        "r1 = torch.rand(7, 7)\n",
        "\n",
        "# Create two random tensors\n",
        "torch.manual_seed(0)\n",
        "r2 = torch.rand(1, 7)\n",
        "\n",
        "# Matrix multiply tensors\n",
        "torch.mm(r1, r2.T)\n"
      ]
    },
    {
      "cell_type": "markdown",
      "metadata": {
        "id": "ezY6ks9Cis37"
      },
      "source": [
        "### 5. Speaking of random seeds, we saw how to set it with `torch.manual_seed()` but is there a GPU equivalent? (hint: you'll need to look into the documentation for `torch.cuda` for this one)\n",
        "  * If there is, set the GPU random seed to `1234`."
      ]
    },
    {
      "cell_type": "code",
      "execution_count": 6,
      "metadata": {
        "id": "_LKWcfSTjp00"
      },
      "outputs": [],
      "source": [
        "# Set random seed on the GPU\n",
        "torch.cuda.manual_seed(1)"
      ]
    },
    {
      "cell_type": "markdown",
      "metadata": {
        "id": "Ir9qSaj6it4n"
      },
      "source": [
        "\n",
        "### 6. Create two random tensors of shape `(2, 3)` and send them both to the GPU (you'll need access to a GPU for this). Set `torch.manual_seed(1234)` when creating the tensors (this doesn't have to be the GPU random seed). The output should be something like:\n",
        "\n",
        "```\n",
        "Device: cuda\n",
        "(tensor([[0.0290, 0.4019, 0.2598],\n",
        "         [0.3666, 0.0583, 0.7006]], device='cuda:0'),\n",
        " tensor([[0.0518, 0.4681, 0.6738],\n",
        "         [0.3315, 0.7837, 0.5631]], device='cuda:0'))\n",
        "```"
      ]
    },
    {
      "cell_type": "code",
      "execution_count": 10,
      "metadata": {
        "id": "azXExiFZj5nm"
      },
      "outputs": [
        {
          "data": {
            "text/plain": [
              "(tensor([[0.1272, 0.8167, 0.5440, 0.6601, 0.2721, 0.9737, 0.3903, 0.3394, 0.5451,\n",
              "          0.7312],\n",
              "         [0.3864, 0.5959, 0.7578, 0.2126, 0.7198, 0.9845, 0.5518, 0.0981, 0.0582,\n",
              "          0.5839],\n",
              "         [0.1083, 0.9461, 0.3170, 0.8328, 0.6676, 0.2886, 0.9022, 0.8115, 0.1784,\n",
              "          0.9534],\n",
              "         [0.1486, 0.3882, 0.7977, 0.1752, 0.5777, 0.1949, 0.8499, 0.3125, 0.2156,\n",
              "          0.0383],\n",
              "         [0.4934, 0.3138, 0.3121, 0.5664, 0.1266, 0.7097, 0.0040, 0.5147, 0.2811,\n",
              "          0.4441],\n",
              "         [0.0915, 0.3322, 0.3984, 0.9881, 0.0936, 0.3067, 0.0523, 0.2162, 0.0307,\n",
              "          0.4602],\n",
              "         [0.1048, 0.1429, 0.7458, 0.5464, 0.6944, 0.8088, 0.2945, 0.8648, 0.1688,\n",
              "          0.3534],\n",
              "         [0.3706, 0.5675, 0.9595, 0.6452, 0.7709, 0.2298, 0.1510, 0.2425, 0.8819,\n",
              "          0.5867],\n",
              "         [0.1070, 0.6552, 0.2062, 0.3814, 0.6594, 0.4250, 0.4623, 0.7210, 0.9497,\n",
              "          0.3176],\n",
              "         [0.1693, 0.5473, 0.4224, 0.8215, 0.6750, 0.6834, 0.0144, 0.0734, 0.5473,\n",
              "          0.5675]], device='cuda:0'),\n",
              " tensor([[0.6208, 0.0276, 0.3255, 0.1114, 0.6812, 0.3608, 0.1715, 0.1965, 0.8400,\n",
              "          0.0438],\n",
              "         [0.3011, 0.0285, 0.1628, 0.6302, 0.0447, 0.0927, 0.5736, 0.1185, 0.8971,\n",
              "          0.0516],\n",
              "         [0.7554, 0.2753, 0.1553, 0.3816, 0.0280, 0.6821, 0.0313, 0.5713, 0.8986,\n",
              "          0.7647],\n",
              "         [0.4844, 0.3556, 0.2352, 0.2899, 0.7206, 0.3790, 0.2882, 0.1651, 0.4532,\n",
              "          0.1686],\n",
              "         [0.9808, 0.3282, 0.5142, 0.2260, 0.2356, 0.7532, 0.7435, 0.8266, 0.5540,\n",
              "          0.3807],\n",
              "         [0.4420, 0.5519, 0.9245, 0.2281, 0.0888, 0.9287, 0.0319, 0.1890, 0.1146,\n",
              "          0.8962],\n",
              "         [0.0127, 0.2173, 0.4724, 0.6084, 0.5949, 0.0234, 0.9751, 0.0252, 0.3031,\n",
              "          0.9684],\n",
              "         [0.9725, 0.0047, 0.1317, 0.4292, 0.1813, 0.1354, 0.9600, 0.2260, 0.6083,\n",
              "          0.1012],\n",
              "         [0.0331, 0.5619, 0.0755, 0.1071, 0.3429, 0.7370, 0.4840, 0.1542, 0.6300,\n",
              "          0.5717],\n",
              "         [0.7586, 0.3915, 0.7493, 0.2886, 0.4519, 0.3097, 0.7468, 0.9608, 0.2030,\n",
              "          0.2632]], device='cuda:0'))"
            ]
          },
          "execution_count": 10,
          "metadata": {},
          "output_type": "execute_result"
        }
      ],
      "source": [
        "# Set random seed\n",
        "torch.manual_seed(1234)\n",
        "\n",
        "# Check for access to GPU\n",
        "device = \"cuda\" if torch.cuda.is_available() else \"cpu\"\n",
        "\n",
        "# Create two random tensors on GPU\n",
        "r3 = torch.rand(size=(10, 10), device=device)\n",
        "r4 = torch.rand(size=(10, 10), device=device)\n",
        "r3,r4"
      ]
    },
    {
      "cell_type": "markdown",
      "metadata": {
        "id": "5TlAxeiSiu1y"
      },
      "source": [
        "\n",
        "### 7. Perform a matrix multiplication on the tensors you created in 6 (again, you may have to adjust the shapes of one of the tensors).\n",
        "\n",
        "The output should look like:\n",
        "```\n",
        "(tensor([[0.3647, 0.4709],\n",
        "         [0.5184, 0.5617]], device='cuda:0'), torch.Size([2, 2]))\n",
        "```"
      ]
    },
    {
      "cell_type": "code",
      "execution_count": 12,
      "metadata": {
        "id": "fAeG7ox0lHEO"
      },
      "outputs": [
        {
          "data": {
            "text/plain": [
              "(tensor([[1.5124, 1.4594, 2.5842, 1.7753, 2.7704, 2.8832, 2.2848, 1.5207, 2.3885,\n",
              "          2.3596],\n",
              "         [1.5606, 0.9245, 1.9186, 1.8308, 2.6693, 2.7930, 2.1966, 1.4799, 2.0527,\n",
              "          2.4576],\n",
              "         [1.3541, 1.5156, 2.3061, 1.9311, 2.9460, 2.4374, 3.1448, 1.9237, 2.3092,\n",
              "          3.0621],\n",
              "         [1.2360, 1.0599, 0.9872, 1.3394, 2.0301, 1.4348, 1.8568, 1.4793, 1.2610,\n",
              "          2.2232],\n",
              "         [1.1794, 0.9751, 2.0978, 1.2369, 2.1931, 2.0071, 1.1907, 1.2207, 1.3557,\n",
              "          1.8430],\n",
              "         [0.5776, 0.8641, 1.3160, 0.8686, 1.2898, 1.5691, 1.4370, 0.7900, 0.9248,\n",
              "          1.2945],\n",
              "         [1.5152, 1.0485, 1.9391, 1.6062, 2.5914, 2.2611, 1.8516, 1.2874, 1.6171,\n",
              "          2.5944],\n",
              "         [2.0781, 1.6831, 2.3941, 2.0188, 2.5682, 2.4706, 2.4266, 1.7329, 1.9078,\n",
              "          2.5072],\n",
              "         [1.8292, 1.6127, 2.2697, 1.8163, 2.5743, 1.6842, 1.9396, 1.6917, 2.0821,\n",
              "          2.3462],\n",
              "         [1.5572, 1.2838, 2.1110, 1.7196, 2.0130, 2.2352, 1.9693, 1.2112, 1.8557,\n",
              "          1.7548]], device='cuda:0'),\n",
              " torch.Size([10, 10]))"
            ]
          },
          "execution_count": 12,
          "metadata": {},
          "output_type": "execute_result"
        }
      ],
      "source": [
        "# Perform matmul on tensor_A and tensor_B\n",
        "multiplied = r3.mm(r4.T)\n",
        "multiplied, multiplied.shape"
      ]
    },
    {
      "cell_type": "markdown",
      "metadata": {
        "id": "G7qfa5CSivwg"
      },
      "source": [
        "### 8. Find the maximum and minimum values of the output of 7."
      ]
    },
    {
      "cell_type": "code",
      "execution_count": 14,
      "metadata": {
        "id": "Fu8_3mZpllOd"
      },
      "outputs": [
        {
          "data": {
            "text/plain": [
              "(tensor(0.5776, device='cuda:0'), tensor(3.1448, device='cuda:0'))"
            ]
          },
          "execution_count": 14,
          "metadata": {},
          "output_type": "execute_result"
        }
      ],
      "source": [
        "# Find max\n",
        "max = multiplied.max()\n",
        "# Find min\n",
        "min = multiplied.min()\n",
        "\n",
        "min, max\n"
      ]
    },
    {
      "cell_type": "markdown",
      "metadata": {
        "id": "wrTj5FgNiw47"
      },
      "source": [
        "### 9. Find the maximum and minimum index values of the output of 7."
      ]
    },
    {
      "cell_type": "code",
      "execution_count": 15,
      "metadata": {
        "id": "CCEKt4K2lsfQ"
      },
      "outputs": [
        {
          "data": {
            "text/plain": [
              "(tensor(50, device='cuda:0'), tensor(26, device='cuda:0'))"
            ]
          },
          "execution_count": 15,
          "metadata": {},
          "output_type": "execute_result"
        }
      ],
      "source": [
        "# Find arg max\n",
        "max_index = multiplied.argmax()\n",
        "\n",
        "# Find arg min\n",
        "min_index = multiplied.argmin()\n",
        "\n",
        "min_index, max_index\n"
      ]
    },
    {
      "cell_type": "markdown",
      "metadata": {
        "id": "hmeybz4uixy7"
      },
      "source": [
        "\n",
        "### 10. Make a random tensor with shape `(1, 1, 1, 10)` and then create a new tensor with all the `1` dimensions removed to be left with a tensor of shape `(10)`. Set the seed to `7` when you create it and print out the first tensor and it's shape as well as the second tensor and it's shape.\n",
        "\n",
        "The output should look like:\n",
        "\n",
        "```\n",
        "tensor([[[[0.5349, 0.1988, 0.6592, 0.6569, 0.2328, 0.4251, 0.2071, 0.6297,\n",
        "           0.3653, 0.8513]]]]) torch.Size([1, 1, 1, 10])\n",
        "tensor([0.5349, 0.1988, 0.6592, 0.6569, 0.2328, 0.4251, 0.2071, 0.6297, 0.3653,\n",
        "        0.8513]) torch.Size([10])\n",
        "```"
      ]
    },
    {
      "cell_type": "code",
      "execution_count": 16,
      "metadata": {
        "id": "TQ9zbRzVl1jV"
      },
      "outputs": [
        {
          "name": "stdout",
          "output_type": "stream",
          "text": [
            "tensor([[[[0.5349, 0.1988, 0.6592, 0.6569, 0.2328, 0.4251, 0.2071, 0.6297,\n",
            "           0.3653, 0.8513]]]]) torch.Size([1, 1, 1, 10])\n",
            "tensor([0.5349, 0.1988, 0.6592, 0.6569, 0.2328, 0.4251, 0.2071, 0.6297, 0.3653,\n",
            "        0.8513]) torch.Size([10])\n"
          ]
        }
      ],
      "source": [
        "# Set seed\n",
        "torch.manual_seed(7)\n",
        "\n",
        "# Create random tensor\n",
        "r5 = torch.rand(1, 1, 1, 10)\n",
        "\n",
        "# Remove single dimensions\n",
        "r5_squeezed = r5.squeeze()\n",
        "\n",
        "# Print out tensors and their shapes\n",
        "print(r5, r5.shape)\n",
        "print(r5_squeezed, r5_squeezed.shape)"
      ]
    }
  ],
  "metadata": {
    "accelerator": "GPU",
    "colab": {
      "collapsed_sections": [],
      "name": "00_pytorch_fundamentals_exercises.ipynb",
      "provenance": []
    },
    "kernelspec": {
      "display_name": "Python 3",
      "language": "python",
      "name": "python3"
    },
    "language_info": {
      "codemirror_mode": {
        "name": "ipython",
        "version": 3
      },
      "file_extension": ".py",
      "mimetype": "text/x-python",
      "name": "python",
      "nbconvert_exporter": "python",
      "pygments_lexer": "ipython3",
      "version": "3.10.10"
    },
    "vscode": {
      "interpreter": {
        "hash": "e7370f93d1d0cde622a1f8e1c04877d8463912d04d973331ad4851f04de6915a"
      }
    }
  },
  "nbformat": 4,
  "nbformat_minor": 0
}
